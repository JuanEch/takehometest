{
 "cells": [
  {
   "cell_type": "markdown",
   "id": "b78c024c",
   "metadata": {},
   "source": [
    "## Library Import"
   ]
  },
  {
   "cell_type": "code",
   "execution_count": 1,
   "id": "09f70265",
   "metadata": {},
   "outputs": [
    {
     "name": "stderr",
     "output_type": "stream",
     "text": [
      "/home/juan/heytempo/virtualenv/lib/python3.9/site-packages/xgboost/compat.py:36: FutureWarning: pandas.Int64Index is deprecated and will be removed from pandas in a future version. Use pandas.Index with the appropriate dtype instead.\n",
      "  from pandas import MultiIndex, Int64Index\n"
     ]
    }
   ],
   "source": [
    "## Loading of Libraries. Please install requirements.txt if there's an error.\n",
    "import pandas_gbq\n",
    "import pandas as pd\n",
    "from os.path import exists\n",
    "import numpy as np\n",
    "import seaborn as sns\n",
    "import numpy as np\n",
    "from sklearn.model_selection import train_test_split\n",
    "from sklearn.ensemble import RandomForestClassifier\n",
    "from xgboost import XGBClassifier\n",
    "from sklearn.model_selection import cross_val_score"
   ]
  },
  {
   "cell_type": "markdown",
   "id": "a2f9544c",
   "metadata": {},
   "source": [
    "## Data Loading"
   ]
  },
  {
   "cell_type": "code",
   "execution_count": 2,
   "id": "c15abae7",
   "metadata": {},
   "outputs": [
    {
     "data": {
      "text/html": [
       "<div>\n",
       "<style scoped>\n",
       "    .dataframe tbody tr th:only-of-type {\n",
       "        vertical-align: middle;\n",
       "    }\n",
       "\n",
       "    .dataframe tbody tr th {\n",
       "        vertical-align: top;\n",
       "    }\n",
       "\n",
       "    .dataframe thead th {\n",
       "        text-align: right;\n",
       "    }\n",
       "</style>\n",
       "<table border=\"1\" class=\"dataframe\">\n",
       "  <thead>\n",
       "    <tr style=\"text-align: right;\">\n",
       "      <th></th>\n",
       "      <th>Unnamed: 0</th>\n",
       "      <th>age</th>\n",
       "      <th>class_of_worker</th>\n",
       "      <th>detailed_industry_recode</th>\n",
       "      <th>detailed_occupation_recode</th>\n",
       "      <th>education</th>\n",
       "      <th>wage_per_hour</th>\n",
       "      <th>enroll_in_edu_inst_last_wk</th>\n",
       "      <th>marital_stat</th>\n",
       "      <th>major_industry_code</th>\n",
       "      <th>...</th>\n",
       "      <th>country_of_birth_father</th>\n",
       "      <th>country_of_birth_mother</th>\n",
       "      <th>country_of_birth_self</th>\n",
       "      <th>citizenship</th>\n",
       "      <th>own_business_or_self_employed</th>\n",
       "      <th>fill_inc_questionnaire_for_veterans_admin</th>\n",
       "      <th>veterans_benefits</th>\n",
       "      <th>weeks_worked_in_year</th>\n",
       "      <th>year</th>\n",
       "      <th>label</th>\n",
       "    </tr>\n",
       "  </thead>\n",
       "  <tbody>\n",
       "    <tr>\n",
       "      <th>0</th>\n",
       "      <td>0</td>\n",
       "      <td>0</td>\n",
       "      <td>Not in universe</td>\n",
       "      <td>0</td>\n",
       "      <td>0</td>\n",
       "      <td>Children</td>\n",
       "      <td>0</td>\n",
       "      <td>Not in universe</td>\n",
       "      <td>Never married</td>\n",
       "      <td>Not in universe or children</td>\n",
       "      <td>...</td>\n",
       "      <td>United-States</td>\n",
       "      <td>United-States</td>\n",
       "      <td>United-States</td>\n",
       "      <td>Native- Born in the United States</td>\n",
       "      <td>0</td>\n",
       "      <td>Not in universe</td>\n",
       "      <td>0</td>\n",
       "      <td>0</td>\n",
       "      <td>95</td>\n",
       "      <td>- 50000.</td>\n",
       "    </tr>\n",
       "    <tr>\n",
       "      <th>1</th>\n",
       "      <td>1</td>\n",
       "      <td>0</td>\n",
       "      <td>Not in universe</td>\n",
       "      <td>0</td>\n",
       "      <td>0</td>\n",
       "      <td>Children</td>\n",
       "      <td>0</td>\n",
       "      <td>Not in universe</td>\n",
       "      <td>Never married</td>\n",
       "      <td>Not in universe or children</td>\n",
       "      <td>...</td>\n",
       "      <td>United-States</td>\n",
       "      <td>United-States</td>\n",
       "      <td>United-States</td>\n",
       "      <td>Native- Born in the United States</td>\n",
       "      <td>0</td>\n",
       "      <td>Not in universe</td>\n",
       "      <td>0</td>\n",
       "      <td>0</td>\n",
       "      <td>95</td>\n",
       "      <td>- 50000.</td>\n",
       "    </tr>\n",
       "    <tr>\n",
       "      <th>2</th>\n",
       "      <td>2</td>\n",
       "      <td>0</td>\n",
       "      <td>Not in universe</td>\n",
       "      <td>0</td>\n",
       "      <td>0</td>\n",
       "      <td>Children</td>\n",
       "      <td>0</td>\n",
       "      <td>Not in universe</td>\n",
       "      <td>Never married</td>\n",
       "      <td>Not in universe or children</td>\n",
       "      <td>...</td>\n",
       "      <td>United-States</td>\n",
       "      <td>United-States</td>\n",
       "      <td>United-States</td>\n",
       "      <td>Native- Born in the United States</td>\n",
       "      <td>0</td>\n",
       "      <td>Not in universe</td>\n",
       "      <td>0</td>\n",
       "      <td>0</td>\n",
       "      <td>95</td>\n",
       "      <td>- 50000.</td>\n",
       "    </tr>\n",
       "    <tr>\n",
       "      <th>3</th>\n",
       "      <td>3</td>\n",
       "      <td>0</td>\n",
       "      <td>Not in universe</td>\n",
       "      <td>0</td>\n",
       "      <td>0</td>\n",
       "      <td>Children</td>\n",
       "      <td>0</td>\n",
       "      <td>Not in universe</td>\n",
       "      <td>Never married</td>\n",
       "      <td>Not in universe or children</td>\n",
       "      <td>...</td>\n",
       "      <td>United-States</td>\n",
       "      <td>United-States</td>\n",
       "      <td>United-States</td>\n",
       "      <td>Native- Born in the United States</td>\n",
       "      <td>0</td>\n",
       "      <td>Not in universe</td>\n",
       "      <td>0</td>\n",
       "      <td>0</td>\n",
       "      <td>95</td>\n",
       "      <td>- 50000.</td>\n",
       "    </tr>\n",
       "    <tr>\n",
       "      <th>4</th>\n",
       "      <td>4</td>\n",
       "      <td>0</td>\n",
       "      <td>Not in universe</td>\n",
       "      <td>0</td>\n",
       "      <td>0</td>\n",
       "      <td>Children</td>\n",
       "      <td>0</td>\n",
       "      <td>Not in universe</td>\n",
       "      <td>Never married</td>\n",
       "      <td>Not in universe or children</td>\n",
       "      <td>...</td>\n",
       "      <td>Poland</td>\n",
       "      <td>?</td>\n",
       "      <td>United-States</td>\n",
       "      <td>Native- Born in the United States</td>\n",
       "      <td>0</td>\n",
       "      <td>Not in universe</td>\n",
       "      <td>0</td>\n",
       "      <td>0</td>\n",
       "      <td>95</td>\n",
       "      <td>- 50000.</td>\n",
       "    </tr>\n",
       "    <tr>\n",
       "      <th>...</th>\n",
       "      <td>...</td>\n",
       "      <td>...</td>\n",
       "      <td>...</td>\n",
       "      <td>...</td>\n",
       "      <td>...</td>\n",
       "      <td>...</td>\n",
       "      <td>...</td>\n",
       "      <td>...</td>\n",
       "      <td>...</td>\n",
       "      <td>...</td>\n",
       "      <td>...</td>\n",
       "      <td>...</td>\n",
       "      <td>...</td>\n",
       "      <td>...</td>\n",
       "      <td>...</td>\n",
       "      <td>...</td>\n",
       "      <td>...</td>\n",
       "      <td>...</td>\n",
       "      <td>...</td>\n",
       "      <td>...</td>\n",
       "      <td>...</td>\n",
       "    </tr>\n",
       "    <tr>\n",
       "      <th>199518</th>\n",
       "      <td>199518</td>\n",
       "      <td>85</td>\n",
       "      <td>Not in universe</td>\n",
       "      <td>0</td>\n",
       "      <td>0</td>\n",
       "      <td>5th or 6th grade</td>\n",
       "      <td>0</td>\n",
       "      <td>Not in universe</td>\n",
       "      <td>Widowed</td>\n",
       "      <td>Not in universe or children</td>\n",
       "      <td>...</td>\n",
       "      <td>?</td>\n",
       "      <td>?</td>\n",
       "      <td>?</td>\n",
       "      <td>Foreign born- Not a citizen of U S</td>\n",
       "      <td>0</td>\n",
       "      <td>Not in universe</td>\n",
       "      <td>2</td>\n",
       "      <td>0</td>\n",
       "      <td>94</td>\n",
       "      <td>- 50000.</td>\n",
       "    </tr>\n",
       "    <tr>\n",
       "      <th>199519</th>\n",
       "      <td>199519</td>\n",
       "      <td>86</td>\n",
       "      <td>Not in universe</td>\n",
       "      <td>0</td>\n",
       "      <td>0</td>\n",
       "      <td>High school graduate</td>\n",
       "      <td>0</td>\n",
       "      <td>Not in universe</td>\n",
       "      <td>Divorced</td>\n",
       "      <td>Not in universe or children</td>\n",
       "      <td>...</td>\n",
       "      <td>?</td>\n",
       "      <td>?</td>\n",
       "      <td>United-States</td>\n",
       "      <td>Native- Born in the United States</td>\n",
       "      <td>0</td>\n",
       "      <td>Not in universe</td>\n",
       "      <td>2</td>\n",
       "      <td>0</td>\n",
       "      <td>94</td>\n",
       "      <td>- 50000.</td>\n",
       "    </tr>\n",
       "    <tr>\n",
       "      <th>199520</th>\n",
       "      <td>199520</td>\n",
       "      <td>90</td>\n",
       "      <td>Private</td>\n",
       "      <td>43</td>\n",
       "      <td>26</td>\n",
       "      <td>Bachelors degree(BA AB BS)</td>\n",
       "      <td>0</td>\n",
       "      <td>Not in universe</td>\n",
       "      <td>Married-civilian spouse present</td>\n",
       "      <td>Education</td>\n",
       "      <td>...</td>\n",
       "      <td>United-States</td>\n",
       "      <td>United-States</td>\n",
       "      <td>United-States</td>\n",
       "      <td>Native- Born in the United States</td>\n",
       "      <td>0</td>\n",
       "      <td>Not in universe</td>\n",
       "      <td>2</td>\n",
       "      <td>52</td>\n",
       "      <td>94</td>\n",
       "      <td>- 50000.</td>\n",
       "    </tr>\n",
       "    <tr>\n",
       "      <th>199521</th>\n",
       "      <td>199521</td>\n",
       "      <td>90</td>\n",
       "      <td>Not in universe</td>\n",
       "      <td>0</td>\n",
       "      <td>0</td>\n",
       "      <td>Bachelors degree(BA AB BS)</td>\n",
       "      <td>0</td>\n",
       "      <td>Not in universe</td>\n",
       "      <td>Married-spouse absent</td>\n",
       "      <td>Not in universe or children</td>\n",
       "      <td>...</td>\n",
       "      <td>?</td>\n",
       "      <td>?</td>\n",
       "      <td>United-States</td>\n",
       "      <td>Native- Born in the United States</td>\n",
       "      <td>0</td>\n",
       "      <td>Not in universe</td>\n",
       "      <td>2</td>\n",
       "      <td>0</td>\n",
       "      <td>94</td>\n",
       "      <td>- 50000.</td>\n",
       "    </tr>\n",
       "    <tr>\n",
       "      <th>199522</th>\n",
       "      <td>199522</td>\n",
       "      <td>90</td>\n",
       "      <td>Private</td>\n",
       "      <td>4</td>\n",
       "      <td>34</td>\n",
       "      <td>High school graduate</td>\n",
       "      <td>0</td>\n",
       "      <td>Not in universe</td>\n",
       "      <td>Married-civilian spouse present</td>\n",
       "      <td>Construction</td>\n",
       "      <td>...</td>\n",
       "      <td>Ecuador</td>\n",
       "      <td>Ecuador</td>\n",
       "      <td>Ecuador</td>\n",
       "      <td>Foreign born- U S citizen by naturalization</td>\n",
       "      <td>0</td>\n",
       "      <td>Not in universe</td>\n",
       "      <td>2</td>\n",
       "      <td>52</td>\n",
       "      <td>94</td>\n",
       "      <td>- 50000.</td>\n",
       "    </tr>\n",
       "  </tbody>\n",
       "</table>\n",
       "<p>199523 rows × 43 columns</p>\n",
       "</div>"
      ],
      "text/plain": [
       "        Unnamed: 0  age   class_of_worker  detailed_industry_recode  \\\n",
       "0                0    0   Not in universe                         0   \n",
       "1                1    0   Not in universe                         0   \n",
       "2                2    0   Not in universe                         0   \n",
       "3                3    0   Not in universe                         0   \n",
       "4                4    0   Not in universe                         0   \n",
       "...            ...  ...               ...                       ...   \n",
       "199518      199518   85   Not in universe                         0   \n",
       "199519      199519   86   Not in universe                         0   \n",
       "199520      199520   90           Private                        43   \n",
       "199521      199521   90   Not in universe                         0   \n",
       "199522      199522   90           Private                         4   \n",
       "\n",
       "        detailed_occupation_recode                    education  \\\n",
       "0                                0                     Children   \n",
       "1                                0                     Children   \n",
       "2                                0                     Children   \n",
       "3                                0                     Children   \n",
       "4                                0                     Children   \n",
       "...                            ...                          ...   \n",
       "199518                           0             5th or 6th grade   \n",
       "199519                           0         High school graduate   \n",
       "199520                          26   Bachelors degree(BA AB BS)   \n",
       "199521                           0   Bachelors degree(BA AB BS)   \n",
       "199522                          34         High school graduate   \n",
       "\n",
       "        wage_per_hour enroll_in_edu_inst_last_wk  \\\n",
       "0                   0            Not in universe   \n",
       "1                   0            Not in universe   \n",
       "2                   0            Not in universe   \n",
       "3                   0            Not in universe   \n",
       "4                   0            Not in universe   \n",
       "...               ...                        ...   \n",
       "199518              0            Not in universe   \n",
       "199519              0            Not in universe   \n",
       "199520              0            Not in universe   \n",
       "199521              0            Not in universe   \n",
       "199522              0            Not in universe   \n",
       "\n",
       "                            marital_stat           major_industry_code  ...  \\\n",
       "0                          Never married   Not in universe or children  ...   \n",
       "1                          Never married   Not in universe or children  ...   \n",
       "2                          Never married   Not in universe or children  ...   \n",
       "3                          Never married   Not in universe or children  ...   \n",
       "4                          Never married   Not in universe or children  ...   \n",
       "...                                  ...                           ...  ...   \n",
       "199518                           Widowed   Not in universe or children  ...   \n",
       "199519                          Divorced   Not in universe or children  ...   \n",
       "199520   Married-civilian spouse present                     Education  ...   \n",
       "199521             Married-spouse absent   Not in universe or children  ...   \n",
       "199522   Married-civilian spouse present                  Construction  ...   \n",
       "\n",
       "       country_of_birth_father country_of_birth_mother country_of_birth_self  \\\n",
       "0                United-States           United-States         United-States   \n",
       "1                United-States           United-States         United-States   \n",
       "2                United-States           United-States         United-States   \n",
       "3                United-States           United-States         United-States   \n",
       "4                       Poland                       ?         United-States   \n",
       "...                        ...                     ...                   ...   \n",
       "199518                       ?                       ?                     ?   \n",
       "199519                       ?                       ?         United-States   \n",
       "199520           United-States           United-States         United-States   \n",
       "199521                       ?                       ?         United-States   \n",
       "199522                 Ecuador                 Ecuador               Ecuador   \n",
       "\n",
       "                                         citizenship  \\\n",
       "0                  Native- Born in the United States   \n",
       "1                  Native- Born in the United States   \n",
       "2                  Native- Born in the United States   \n",
       "3                  Native- Born in the United States   \n",
       "4                  Native- Born in the United States   \n",
       "...                                              ...   \n",
       "199518           Foreign born- Not a citizen of U S    \n",
       "199519             Native- Born in the United States   \n",
       "199520             Native- Born in the United States   \n",
       "199521             Native- Born in the United States   \n",
       "199522   Foreign born- U S citizen by naturalization   \n",
       "\n",
       "       own_business_or_self_employed  \\\n",
       "0                                  0   \n",
       "1                                  0   \n",
       "2                                  0   \n",
       "3                                  0   \n",
       "4                                  0   \n",
       "...                              ...   \n",
       "199518                             0   \n",
       "199519                             0   \n",
       "199520                             0   \n",
       "199521                             0   \n",
       "199522                             0   \n",
       "\n",
       "       fill_inc_questionnaire_for_veterans_admin veterans_benefits  \\\n",
       "0                                Not in universe                 0   \n",
       "1                                Not in universe                 0   \n",
       "2                                Not in universe                 0   \n",
       "3                                Not in universe                 0   \n",
       "4                                Not in universe                 0   \n",
       "...                                          ...               ...   \n",
       "199518                           Not in universe                 2   \n",
       "199519                           Not in universe                 2   \n",
       "199520                           Not in universe                 2   \n",
       "199521                           Not in universe                 2   \n",
       "199522                           Not in universe                 2   \n",
       "\n",
       "        weeks_worked_in_year  year      label  \n",
       "0                          0    95   - 50000.  \n",
       "1                          0    95   - 50000.  \n",
       "2                          0    95   - 50000.  \n",
       "3                          0    95   - 50000.  \n",
       "4                          0    95   - 50000.  \n",
       "...                      ...   ...        ...  \n",
       "199518                     0    94   - 50000.  \n",
       "199519                     0    94   - 50000.  \n",
       "199520                    52    94   - 50000.  \n",
       "199521                     0    94   - 50000.  \n",
       "199522                    52    94   - 50000.  \n",
       "\n",
       "[199523 rows x 43 columns]"
      ]
     },
     "execution_count": 2,
     "metadata": {},
     "output_type": "execute_result"
    }
   ],
   "source": [
    "if not exists(\"df_train.df\"):\n",
    "    query = \"\"\"\n",
    "    SELECT *\n",
    "    FROM data_science_take_home.census_income_learn\n",
    "    \"\"\"\n",
    "    df = pandas_gbq.read_gbq(\n",
    "    query,\n",
    "    project_id=\"heytempo-public\",\n",
    "    )\n",
    "    df.to_csv(\"df_train.df\")\n",
    "\n",
    "df=pd.read_csv(\"df_train.df\")\n",
    "df"
   ]
  },
  {
   "cell_type": "code",
   "execution_count": 3,
   "id": "d0a488f8",
   "metadata": {
    "scrolled": true
   },
   "outputs": [
    {
     "data": {
      "text/html": [
       "<div>\n",
       "<style scoped>\n",
       "    .dataframe tbody tr th:only-of-type {\n",
       "        vertical-align: middle;\n",
       "    }\n",
       "\n",
       "    .dataframe tbody tr th {\n",
       "        vertical-align: top;\n",
       "    }\n",
       "\n",
       "    .dataframe thead th {\n",
       "        text-align: right;\n",
       "    }\n",
       "</style>\n",
       "<table border=\"1\" class=\"dataframe\">\n",
       "  <thead>\n",
       "    <tr style=\"text-align: right;\">\n",
       "      <th></th>\n",
       "      <th>Unnamed: 0</th>\n",
       "      <th>age</th>\n",
       "      <th>class_of_worker</th>\n",
       "      <th>detailed_industry_recode</th>\n",
       "      <th>detailed_occupation_recode</th>\n",
       "      <th>education</th>\n",
       "      <th>wage_per_hour</th>\n",
       "      <th>enroll_in_edu_inst_last_wk</th>\n",
       "      <th>marital_stat</th>\n",
       "      <th>major_industry_code</th>\n",
       "      <th>...</th>\n",
       "      <th>country_of_birth_father</th>\n",
       "      <th>country_of_birth_mother</th>\n",
       "      <th>country_of_birth_self</th>\n",
       "      <th>citizenship</th>\n",
       "      <th>own_business_or_self_employed</th>\n",
       "      <th>fill_inc_questionnaire_for_veterans_admin</th>\n",
       "      <th>veterans_benefits</th>\n",
       "      <th>weeks_worked_in_year</th>\n",
       "      <th>year</th>\n",
       "      <th>label</th>\n",
       "    </tr>\n",
       "  </thead>\n",
       "  <tbody>\n",
       "    <tr>\n",
       "      <th>0</th>\n",
       "      <td>0</td>\n",
       "      <td>0</td>\n",
       "      <td>Not in universe</td>\n",
       "      <td>0</td>\n",
       "      <td>0</td>\n",
       "      <td>Children</td>\n",
       "      <td>0</td>\n",
       "      <td>Not in universe</td>\n",
       "      <td>Never married</td>\n",
       "      <td>Not in universe or children</td>\n",
       "      <td>...</td>\n",
       "      <td>United-States</td>\n",
       "      <td>United-States</td>\n",
       "      <td>United-States</td>\n",
       "      <td>Native- Born in the United States</td>\n",
       "      <td>0</td>\n",
       "      <td>Not in universe</td>\n",
       "      <td>0</td>\n",
       "      <td>0</td>\n",
       "      <td>95</td>\n",
       "      <td>- 50000.</td>\n",
       "    </tr>\n",
       "    <tr>\n",
       "      <th>1</th>\n",
       "      <td>1</td>\n",
       "      <td>0</td>\n",
       "      <td>Not in universe</td>\n",
       "      <td>0</td>\n",
       "      <td>0</td>\n",
       "      <td>Children</td>\n",
       "      <td>0</td>\n",
       "      <td>Not in universe</td>\n",
       "      <td>Never married</td>\n",
       "      <td>Not in universe or children</td>\n",
       "      <td>...</td>\n",
       "      <td>United-States</td>\n",
       "      <td>United-States</td>\n",
       "      <td>United-States</td>\n",
       "      <td>Native- Born in the United States</td>\n",
       "      <td>0</td>\n",
       "      <td>Not in universe</td>\n",
       "      <td>0</td>\n",
       "      <td>0</td>\n",
       "      <td>95</td>\n",
       "      <td>- 50000.</td>\n",
       "    </tr>\n",
       "    <tr>\n",
       "      <th>2</th>\n",
       "      <td>2</td>\n",
       "      <td>0</td>\n",
       "      <td>Not in universe</td>\n",
       "      <td>0</td>\n",
       "      <td>0</td>\n",
       "      <td>Children</td>\n",
       "      <td>0</td>\n",
       "      <td>Not in universe</td>\n",
       "      <td>Never married</td>\n",
       "      <td>Not in universe or children</td>\n",
       "      <td>...</td>\n",
       "      <td>Dominican-Republic</td>\n",
       "      <td>Mexico</td>\n",
       "      <td>United-States</td>\n",
       "      <td>Native- Born in the United States</td>\n",
       "      <td>0</td>\n",
       "      <td>Not in universe</td>\n",
       "      <td>0</td>\n",
       "      <td>0</td>\n",
       "      <td>95</td>\n",
       "      <td>- 50000.</td>\n",
       "    </tr>\n",
       "    <tr>\n",
       "      <th>3</th>\n",
       "      <td>3</td>\n",
       "      <td>0</td>\n",
       "      <td>Not in universe</td>\n",
       "      <td>0</td>\n",
       "      <td>0</td>\n",
       "      <td>Children</td>\n",
       "      <td>0</td>\n",
       "      <td>Not in universe</td>\n",
       "      <td>Never married</td>\n",
       "      <td>Not in universe or children</td>\n",
       "      <td>...</td>\n",
       "      <td>United-States</td>\n",
       "      <td>United-States</td>\n",
       "      <td>United-States</td>\n",
       "      <td>Native- Born in the United States</td>\n",
       "      <td>0</td>\n",
       "      <td>Not in universe</td>\n",
       "      <td>0</td>\n",
       "      <td>0</td>\n",
       "      <td>95</td>\n",
       "      <td>- 50000.</td>\n",
       "    </tr>\n",
       "    <tr>\n",
       "      <th>4</th>\n",
       "      <td>4</td>\n",
       "      <td>0</td>\n",
       "      <td>Not in universe</td>\n",
       "      <td>0</td>\n",
       "      <td>0</td>\n",
       "      <td>Children</td>\n",
       "      <td>0</td>\n",
       "      <td>Not in universe</td>\n",
       "      <td>Never married</td>\n",
       "      <td>Not in universe or children</td>\n",
       "      <td>...</td>\n",
       "      <td>United-States</td>\n",
       "      <td>United-States</td>\n",
       "      <td>United-States</td>\n",
       "      <td>Native- Born in the United States</td>\n",
       "      <td>0</td>\n",
       "      <td>Not in universe</td>\n",
       "      <td>0</td>\n",
       "      <td>0</td>\n",
       "      <td>95</td>\n",
       "      <td>- 50000.</td>\n",
       "    </tr>\n",
       "    <tr>\n",
       "      <th>...</th>\n",
       "      <td>...</td>\n",
       "      <td>...</td>\n",
       "      <td>...</td>\n",
       "      <td>...</td>\n",
       "      <td>...</td>\n",
       "      <td>...</td>\n",
       "      <td>...</td>\n",
       "      <td>...</td>\n",
       "      <td>...</td>\n",
       "      <td>...</td>\n",
       "      <td>...</td>\n",
       "      <td>...</td>\n",
       "      <td>...</td>\n",
       "      <td>...</td>\n",
       "      <td>...</td>\n",
       "      <td>...</td>\n",
       "      <td>...</td>\n",
       "      <td>...</td>\n",
       "      <td>...</td>\n",
       "      <td>...</td>\n",
       "      <td>...</td>\n",
       "    </tr>\n",
       "    <tr>\n",
       "      <th>99757</th>\n",
       "      <td>99757</td>\n",
       "      <td>80</td>\n",
       "      <td>Not in universe</td>\n",
       "      <td>0</td>\n",
       "      <td>0</td>\n",
       "      <td>10th grade</td>\n",
       "      <td>0</td>\n",
       "      <td>Not in universe</td>\n",
       "      <td>Married-civilian spouse present</td>\n",
       "      <td>Not in universe or children</td>\n",
       "      <td>...</td>\n",
       "      <td>United-States</td>\n",
       "      <td>United-States</td>\n",
       "      <td>United-States</td>\n",
       "      <td>Native- Born in the United States</td>\n",
       "      <td>0</td>\n",
       "      <td>Not in universe</td>\n",
       "      <td>2</td>\n",
       "      <td>0</td>\n",
       "      <td>94</td>\n",
       "      <td>- 50000.</td>\n",
       "    </tr>\n",
       "    <tr>\n",
       "      <th>99758</th>\n",
       "      <td>99758</td>\n",
       "      <td>83</td>\n",
       "      <td>Private</td>\n",
       "      <td>24</td>\n",
       "      <td>12</td>\n",
       "      <td>Some college but no degree</td>\n",
       "      <td>0</td>\n",
       "      <td>Not in universe</td>\n",
       "      <td>Divorced</td>\n",
       "      <td>Manufacturing-nondurable goods</td>\n",
       "      <td>...</td>\n",
       "      <td>United-States</td>\n",
       "      <td>United-States</td>\n",
       "      <td>United-States</td>\n",
       "      <td>Native- Born in the United States</td>\n",
       "      <td>0</td>\n",
       "      <td>Not in universe</td>\n",
       "      <td>2</td>\n",
       "      <td>52</td>\n",
       "      <td>94</td>\n",
       "      <td>- 50000.</td>\n",
       "    </tr>\n",
       "    <tr>\n",
       "      <th>99759</th>\n",
       "      <td>99759</td>\n",
       "      <td>87</td>\n",
       "      <td>Not in universe</td>\n",
       "      <td>0</td>\n",
       "      <td>0</td>\n",
       "      <td>10th grade</td>\n",
       "      <td>0</td>\n",
       "      <td>Not in universe</td>\n",
       "      <td>Widowed</td>\n",
       "      <td>Not in universe or children</td>\n",
       "      <td>...</td>\n",
       "      <td>United-States</td>\n",
       "      <td>United-States</td>\n",
       "      <td>United-States</td>\n",
       "      <td>Native- Born in the United States</td>\n",
       "      <td>0</td>\n",
       "      <td>Not in universe</td>\n",
       "      <td>2</td>\n",
       "      <td>0</td>\n",
       "      <td>94</td>\n",
       "      <td>- 50000.</td>\n",
       "    </tr>\n",
       "    <tr>\n",
       "      <th>99760</th>\n",
       "      <td>99760</td>\n",
       "      <td>90</td>\n",
       "      <td>Not in universe</td>\n",
       "      <td>0</td>\n",
       "      <td>0</td>\n",
       "      <td>5th or 6th grade</td>\n",
       "      <td>0</td>\n",
       "      <td>Not in universe</td>\n",
       "      <td>Widowed</td>\n",
       "      <td>Not in universe or children</td>\n",
       "      <td>...</td>\n",
       "      <td>United-States</td>\n",
       "      <td>United-States</td>\n",
       "      <td>United-States</td>\n",
       "      <td>Native- Born in the United States</td>\n",
       "      <td>0</td>\n",
       "      <td>Not in universe</td>\n",
       "      <td>2</td>\n",
       "      <td>0</td>\n",
       "      <td>94</td>\n",
       "      <td>- 50000.</td>\n",
       "    </tr>\n",
       "    <tr>\n",
       "      <th>99761</th>\n",
       "      <td>99761</td>\n",
       "      <td>90</td>\n",
       "      <td>Not in universe</td>\n",
       "      <td>0</td>\n",
       "      <td>0</td>\n",
       "      <td>Bachelors degree(BA AB BS)</td>\n",
       "      <td>0</td>\n",
       "      <td>Not in universe</td>\n",
       "      <td>Widowed</td>\n",
       "      <td>Not in universe or children</td>\n",
       "      <td>...</td>\n",
       "      <td>United-States</td>\n",
       "      <td>United-States</td>\n",
       "      <td>United-States</td>\n",
       "      <td>Native- Born in the United States</td>\n",
       "      <td>0</td>\n",
       "      <td>Not in universe</td>\n",
       "      <td>2</td>\n",
       "      <td>0</td>\n",
       "      <td>94</td>\n",
       "      <td>- 50000.</td>\n",
       "    </tr>\n",
       "  </tbody>\n",
       "</table>\n",
       "<p>99762 rows × 43 columns</p>\n",
       "</div>"
      ],
      "text/plain": [
       "       Unnamed: 0  age   class_of_worker  detailed_industry_recode  \\\n",
       "0               0    0   Not in universe                         0   \n",
       "1               1    0   Not in universe                         0   \n",
       "2               2    0   Not in universe                         0   \n",
       "3               3    0   Not in universe                         0   \n",
       "4               4    0   Not in universe                         0   \n",
       "...           ...  ...               ...                       ...   \n",
       "99757       99757   80   Not in universe                         0   \n",
       "99758       99758   83           Private                        24   \n",
       "99759       99759   87   Not in universe                         0   \n",
       "99760       99760   90   Not in universe                         0   \n",
       "99761       99761   90   Not in universe                         0   \n",
       "\n",
       "       detailed_occupation_recode                    education  wage_per_hour  \\\n",
       "0                               0                     Children              0   \n",
       "1                               0                     Children              0   \n",
       "2                               0                     Children              0   \n",
       "3                               0                     Children              0   \n",
       "4                               0                     Children              0   \n",
       "...                           ...                          ...            ...   \n",
       "99757                           0                   10th grade              0   \n",
       "99758                          12   Some college but no degree              0   \n",
       "99759                           0                   10th grade              0   \n",
       "99760                           0             5th or 6th grade              0   \n",
       "99761                           0   Bachelors degree(BA AB BS)              0   \n",
       "\n",
       "      enroll_in_edu_inst_last_wk                      marital_stat  \\\n",
       "0                Not in universe                     Never married   \n",
       "1                Not in universe                     Never married   \n",
       "2                Not in universe                     Never married   \n",
       "3                Not in universe                     Never married   \n",
       "4                Not in universe                     Never married   \n",
       "...                          ...                               ...   \n",
       "99757            Not in universe   Married-civilian spouse present   \n",
       "99758            Not in universe                          Divorced   \n",
       "99759            Not in universe                           Widowed   \n",
       "99760            Not in universe                           Widowed   \n",
       "99761            Not in universe                           Widowed   \n",
       "\n",
       "                   major_industry_code  ... country_of_birth_father  \\\n",
       "0          Not in universe or children  ...           United-States   \n",
       "1          Not in universe or children  ...           United-States   \n",
       "2          Not in universe or children  ...      Dominican-Republic   \n",
       "3          Not in universe or children  ...           United-States   \n",
       "4          Not in universe or children  ...           United-States   \n",
       "...                                ...  ...                     ...   \n",
       "99757      Not in universe or children  ...           United-States   \n",
       "99758   Manufacturing-nondurable goods  ...           United-States   \n",
       "99759      Not in universe or children  ...           United-States   \n",
       "99760      Not in universe or children  ...           United-States   \n",
       "99761      Not in universe or children  ...           United-States   \n",
       "\n",
       "      country_of_birth_mother country_of_birth_self  \\\n",
       "0               United-States         United-States   \n",
       "1               United-States         United-States   \n",
       "2                      Mexico         United-States   \n",
       "3               United-States         United-States   \n",
       "4               United-States         United-States   \n",
       "...                       ...                   ...   \n",
       "99757           United-States         United-States   \n",
       "99758           United-States         United-States   \n",
       "99759           United-States         United-States   \n",
       "99760           United-States         United-States   \n",
       "99761           United-States         United-States   \n",
       "\n",
       "                              citizenship own_business_or_self_employed  \\\n",
       "0       Native- Born in the United States                             0   \n",
       "1       Native- Born in the United States                             0   \n",
       "2       Native- Born in the United States                             0   \n",
       "3       Native- Born in the United States                             0   \n",
       "4       Native- Born in the United States                             0   \n",
       "...                                   ...                           ...   \n",
       "99757   Native- Born in the United States                             0   \n",
       "99758   Native- Born in the United States                             0   \n",
       "99759   Native- Born in the United States                             0   \n",
       "99760   Native- Born in the United States                             0   \n",
       "99761   Native- Born in the United States                             0   \n",
       "\n",
       "      fill_inc_questionnaire_for_veterans_admin veterans_benefits  \\\n",
       "0                               Not in universe                 0   \n",
       "1                               Not in universe                 0   \n",
       "2                               Not in universe                 0   \n",
       "3                               Not in universe                 0   \n",
       "4                               Not in universe                 0   \n",
       "...                                         ...               ...   \n",
       "99757                           Not in universe                 2   \n",
       "99758                           Not in universe                 2   \n",
       "99759                           Not in universe                 2   \n",
       "99760                           Not in universe                 2   \n",
       "99761                           Not in universe                 2   \n",
       "\n",
       "       weeks_worked_in_year  year      label  \n",
       "0                         0    95   - 50000.  \n",
       "1                         0    95   - 50000.  \n",
       "2                         0    95   - 50000.  \n",
       "3                         0    95   - 50000.  \n",
       "4                         0    95   - 50000.  \n",
       "...                     ...   ...        ...  \n",
       "99757                     0    94   - 50000.  \n",
       "99758                    52    94   - 50000.  \n",
       "99759                     0    94   - 50000.  \n",
       "99760                     0    94   - 50000.  \n",
       "99761                     0    94   - 50000.  \n",
       "\n",
       "[99762 rows x 43 columns]"
      ]
     },
     "execution_count": 3,
     "metadata": {},
     "output_type": "execute_result"
    }
   ],
   "source": [
    "if not exists(\"df_test.df\"):\n",
    "    query = \"\"\"\n",
    "    SELECT *\n",
    "    FROM data_science_take_home.census_income_test\n",
    "    \"\"\"\n",
    "    df = pandas_gbq.read_gbq(\n",
    "    query,\n",
    "    project_id=\"heytempo-public\",\n",
    "    )\n",
    "    df.to_csv(\"df_train.df\")\n",
    "\n",
    "df_test=pd.read_csv(\"df_test.df\")\n",
    "df_test"
   ]
  },
  {
   "cell_type": "code",
   "execution_count": 4,
   "id": "1bf9db90",
   "metadata": {},
   "outputs": [
    {
     "data": {
      "text/plain": [
       "<AxesSubplot:xlabel='label', ylabel='Count'>"
      ]
     },
     "execution_count": 4,
     "metadata": {},
     "output_type": "execute_result"
    },
    {
     "data": {
      "image/png": "[encoded data removed]",
      "text/plain": [
       "<Figure size 432x288 with 1 Axes>"
      ]
     },
     "metadata": {
      "needs_background": "light"
     },
     "output_type": "display_data"
    }
   ],
   "source": [
    "##Check our label distribution, quite uneven.\n",
    "sns.histplot(data=df, x=\"label\")"
   ]
  },
  {
   "cell_type": "markdown",
   "id": "e39e4e47",
   "metadata": {},
   "source": [
    "## Data transformations"
   ]
  },
  {
   "cell_type": "code",
   "execution_count": 5,
   "id": "633a58f5",
   "metadata": {},
   "outputs": [],
   "source": [
    "## Changing the label. \n",
    "## Having two spaces preceding a string is just evil.\n",
    "## I normally like 1 and -1 as binary labels but xgboost will complain\n",
    "## later if I use that. \n",
    "df['label']=df['label'].replace(\" - 50000.\",0)\n",
    "df['label']=df['label'].replace(\" 50000+.\",1)\n",
    "df_test['label']=df_test['label'].replace(\" - 50000.\",0)\n",
    "df_test['label']=df_test['label'].replace(\" 50000+.\",1)\n"
   ]
  },
  {
   "cell_type": "markdown",
   "id": "69b2de11",
   "metadata": {},
   "source": [
    "### I checked a few correlations  but it didn't seem like there were a lot of them between features."
   ]
  },
  {
   "cell_type": "markdown",
   "id": "a9cd1cb6",
   "metadata": {},
   "source": [
    "### Age is clearly an important variable\n",
    "#### Age also clearly comes from two different polls, one that has options for \"0,5,10,15 etc\" I would probably put it in bins but we don't kwow what the specific question is, so there's no way to determine if \"25\" means 25-29 or 21-25 so I will leave it as is"
   ]
  },
  {
   "cell_type": "code",
   "execution_count": 6,
   "id": "4890f0ba",
   "metadata": {},
   "outputs": [
    {
     "data": {
      "text/plain": [
       "<AxesSubplot:xlabel='age', ylabel='Count'>"
      ]
     },
     "execution_count": 6,
     "metadata": {},
     "output_type": "execute_result"
    },
    {
     "data": {
      "image/png": "[encoded data removed]",
      "text/plain": [
       "<Figure size 432x288 with 1 Axes>"
      ]
     },
     "metadata": {
      "needs_background": "light"
     },
     "output_type": "display_data"
    }
   ],
   "source": [
    "sns.histplot(data=df, x=\"age\",hue=\"label\")"
   ]
  },
  {
   "cell_type": "markdown",
   "id": "54e2a4f8",
   "metadata": {},
   "source": [
    "### It looks like most people who earn over 50k work 52 weeks, not surprising."
   ]
  },
  {
   "cell_type": "code",
   "execution_count": 7,
   "id": "57327c76",
   "metadata": {},
   "outputs": [
    {
     "data": {
      "text/plain": [
       "<AxesSubplot:xlabel='weeks_worked_in_year', ylabel='Density'>"
      ]
     },
     "execution_count": 7,
     "metadata": {},
     "output_type": "execute_result"
    },
    {
     "data": {
      "image/png": "[encoded data removed]",
      "text/plain": [
       "<Figure size 432x288 with 1 Axes>"
      ]
     },
     "metadata": {
      "needs_background": "light"
     },
     "output_type": "display_data"
    }
   ],
   "source": [
    "sns.kdeplot(data=df, x=\"weeks_worked_in_year\",hue=\"label\")\n"
   ]
  },
  {
   "cell_type": "markdown",
   "id": "c88c82bd",
   "metadata": {},
   "source": [
    "### No surprise that children earn less than 50k :)"
   ]
  },
  {
   "cell_type": "code",
   "execution_count": 8,
   "id": "48a60cac",
   "metadata": {},
   "outputs": [
    {
     "data": {
      "text/plain": [
       "<AxesSubplot:xlabel='Count', ylabel='education'>"
      ]
     },
     "execution_count": 8,
     "metadata": {},
     "output_type": "execute_result"
    },
    {
     "data": {
      "image/png": "[encoded data removed]",
      "text/plain": [
       "<Figure size 432x288 with 1 Axes>"
      ]
     },
     "metadata": {
      "needs_background": "light"
     },
     "output_type": "display_data"
    }
   ],
   "source": [
    "sns.histplot(data=df, y=\"education\",hue=\"label\")"
   ]
  },
  {
   "cell_type": "code",
   "execution_count": null,
   "id": "6947c7f6",
   "metadata": {},
   "outputs": [],
   "source": []
  },
  {
   "cell_type": "code",
   "execution_count": 9,
   "id": "a1d27d43",
   "metadata": {},
   "outputs": [
    {
     "data": {
      "text/plain": [
       "500     734\n",
       "600     546\n",
       "700     534\n",
       "800     507\n",
       "1000    386\n",
       "       ... \n",
       "574       1\n",
       "897       1\n",
       "728       1\n",
       "1851      1\n",
       "2626      1\n",
       "Name: wage_per_hour, Length: 1239, dtype: int64"
      ]
     },
     "execution_count": 9,
     "metadata": {},
     "output_type": "execute_result"
    }
   ],
   "source": [
    "df[df[\"wage_per_hour\"]>0][\"wage_per_hour\"].value_counts()\n",
    "## There is so few data points here here that I was tempted to just \n",
    "## remove it"
   ]
  },
  {
   "cell_type": "markdown",
   "id": "b7eb5bfd",
   "metadata": {},
   "source": [
    "### What's cheap and quick? just drop all non-numerical data."
   ]
  },
  {
   "cell_type": "code",
   "execution_count": 10,
   "id": "9d770a26",
   "metadata": {},
   "outputs": [],
   "source": [
    "df_num=df._get_numeric_data()\n",
    "X=df_num.loc[:, df_num.columns!='label'].values\n",
    "Y=df_num.loc[:, df_num.columns=='label'].values"
   ]
  },
  {
   "cell_type": "markdown",
   "id": "dda93fbf",
   "metadata": {},
   "source": [
    "### Everything seems fair, even using a large validation set this seems ok, 95% accurate. Nice."
   ]
  },
  {
   "cell_type": "code",
   "execution_count": 11,
   "id": "85ff55ef",
   "metadata": {},
   "outputs": [
    {
     "data": {
      "text/plain": [
       "0.9511965919057762"
      ]
     },
     "execution_count": 11,
     "metadata": {},
     "output_type": "execute_result"
    }
   ],
   "source": [
    "X_train, X_test, y_train, y_test = train_test_split(X, Y, test_size=0.4, random_state=0)\n",
    "clf = RandomForestClassifier(max_depth=9, random_state=0)\n",
    "clf.fit(X, Y.ravel())\n",
    "clf.score(X_test, y_test)"
   ]
  },
  {
   "cell_type": "markdown",
   "id": "2f29d6b0",
   "metadata": {},
   "source": [
    "### After 10 fold cross validation, something funny is going on, clearly a few of the predictors are quite wrong, while others achieve good performance."
   ]
  },
  {
   "cell_type": "code",
   "execution_count": 12,
   "id": "6c8fe792",
   "metadata": {},
   "outputs": [
    {
     "data": {
      "text/plain": [
       "array([0.93795419, 0.56913747, 0.39623114, 0.6776263 , 0.7040397 ,\n",
       "       0.94426624, 0.94281275, 0.91845429, 0.93950481, 0.9402065 ])"
      ]
     },
     "execution_count": 12,
     "metadata": {},
     "output_type": "execute_result"
    }
   ],
   "source": [
    "cross_val_score(RandomForestClassifier(max_depth=9, random_state=0), X, Y.ravel(),cv=10)"
   ]
  },
  {
   "cell_type": "markdown",
   "id": "268ee548",
   "metadata": {},
   "source": [
    "### Even checking against the full test dataset (not the one we made for training) the results seem fine. weird."
   ]
  },
  {
   "cell_type": "code",
   "execution_count": 13,
   "id": "a7edd512",
   "metadata": {},
   "outputs": [
    {
     "data": {
      "text/plain": [
       "0.9475652051883483"
      ]
     },
     "execution_count": 13,
     "metadata": {},
     "output_type": "execute_result"
    }
   ],
   "source": [
    "df_num_test=df_test._get_numeric_data()\n",
    "X_val=df_num_test.loc[:, df_num_test._get_numeric_data().columns!='label'].values\n",
    "Y_val=df_num_test.loc[:, df_num_test._get_numeric_data().columns=='label'].values\n",
    "clf.score(X_val, Y_val)\n"
   ]
  },
  {
   "cell_type": "markdown",
   "id": "7f9e7d13",
   "metadata": {},
   "source": [
    "### Gonna shake it"
   ]
  },
  {
   "cell_type": "code",
   "execution_count": 14,
   "id": "b08ef9d9",
   "metadata": {},
   "outputs": [],
   "source": [
    "## probably not the best way to ramdomise a dataset, but I want to\n",
    "## keep the dataframe functionality instead of just having a numpy \n",
    "## array.\n",
    "\n",
    "df_shake=df_num.iloc[np.random.permutation(len(df_num))]\n",
    "X_shake=df_shake.loc[:, df_shake.columns!='label'].values\n",
    "Y_shake=df_shake.loc[:, df_shake.columns=='label'].values"
   ]
  },
  {
   "cell_type": "markdown",
   "id": "70ae3864",
   "metadata": {},
   "source": [
    "### The problem is gone, all folds have similar accuracy now. This means some sort of sequentiallity in the dataset."
   ]
  },
  {
   "cell_type": "code",
   "execution_count": 15,
   "id": "c3b11280",
   "metadata": {},
   "outputs": [
    {
     "data": {
      "text/plain": [
       "array([0.94988222, 0.94862928, 0.9495314 , 0.94957899, 0.95048115,\n",
       "       0.94877706, 0.94962911, 0.94952887, 0.94947875, 0.94792502])"
      ]
     },
     "execution_count": 15,
     "metadata": {},
     "output_type": "execute_result"
    }
   ],
   "source": [
    "cross_val_score(RandomForestClassifier(max_depth=9, random_state=0), X_shake, Y_shake.ravel(),cv=10)"
   ]
  },
  {
   "cell_type": "markdown",
   "id": "5ce07188",
   "metadata": {},
   "source": [
    "### I bet that that the 50k's are all together somehow."
   ]
  },
  {
   "cell_type": "code",
   "execution_count": 16,
   "id": "d7eaf7fd",
   "metadata": {},
   "outputs": [
    {
     "data": {
      "text/plain": [
       "<AxesSubplot:xlabel='Unnamed: 0', ylabel='label'>"
      ]
     },
     "execution_count": 16,
     "metadata": {},
     "output_type": "execute_result"
    },
    {
     "data": {
      "image/png": "[encoded data removed]",
      "text/plain": [
       "<Figure size 432x288 with 1 Axes>"
      ]
     },
     "metadata": {
      "needs_background": "light"
     },
     "output_type": "display_data"
    }
   ],
   "source": [
    "sns.scatterplot(data=df, x=\"Unnamed: 0\",y=\"label\")\n",
    "## I was mistaken"
   ]
  },
  {
   "cell_type": "markdown",
   "id": "fc893acc",
   "metadata": {},
   "source": [
    "### Maybe it's ordered by age?\n",
    "### A-ha! so I'm guessing these values actually come from 3 different censuses. By not randomising, I was clearly dropping some important datapoints from each fold. The test and train set in each fold were too different because of this sequencing."
   ]
  },
  {
   "cell_type": "code",
   "execution_count": 17,
   "id": "1a6b012f",
   "metadata": {},
   "outputs": [
    {
     "data": {
      "text/plain": [
       "<AxesSubplot:xlabel='Unnamed: 0', ylabel='age'>"
      ]
     },
     "execution_count": 17,
     "metadata": {},
     "output_type": "execute_result"
    },
    {
     "data": {
      "image/png": "[encoded data removed]",
      "text/plain": [
       "<Figure size 432x288 with 1 Axes>"
      ]
     },
     "metadata": {
      "needs_background": "light"
     },
     "output_type": "display_data"
    }
   ],
   "source": [
    "sns.scatterplot(data=df, x=\"Unnamed: 0\",y=\"age\")\n"
   ]
  },
  {
   "cell_type": "markdown",
   "id": "2d1cb617",
   "metadata": {},
   "source": [
    "### Let's try my favourite fast non-parallel algorithm see if we can squeeze an extra percentage point for accuracy (looks like we can get half one)"
   ]
  },
  {
   "cell_type": "code",
   "execution_count": 18,
   "id": "f88d7742",
   "metadata": {},
   "outputs": [
    {
     "data": {
      "text/plain": [
       "array([0.95308859, 0.9541912 , 0.95439168, 0.95461608, 0.95331295])"
      ]
     },
     "execution_count": 18,
     "metadata": {},
     "output_type": "execute_result"
    }
   ],
   "source": [
    "cross_val_score(XGBClassifier(use_label_encoder=False,eval_metric=\"error\"), X_shake, Y_shake.ravel())\n"
   ]
  },
  {
   "cell_type": "markdown",
   "id": "5ccff43a",
   "metadata": {},
   "source": [
    "### Looks like it works on the test dataset too. Cool."
   ]
  },
  {
   "cell_type": "code",
   "execution_count": 19,
   "id": "56f36f07",
   "metadata": {},
   "outputs": [
    {
     "data": {
      "text/plain": [
       "0.9539504019566568"
      ]
     },
     "execution_count": 19,
     "metadata": {},
     "output_type": "execute_result"
    }
   ],
   "source": [
    "## I also tried a bunch of different parameters but none that made any significant difference, including the tree\n",
    "## method, regularization weights, etc. \n",
    "\n",
    "\n",
    "model = XGBClassifier(use_label_encoder=False,eval_metric=\"logloss\")\n",
    "model.fit(X_shake, Y_shake.ravel())\n",
    "y_pred = model.predict(X_test)\n",
    "model.score(X_val, Y_val.ravel())"
   ]
  },
  {
   "cell_type": "markdown",
   "id": "de903312",
   "metadata": {},
   "source": [
    "## Let's try to add the education as a one hot encoded variable"
   ]
  },
  {
   "cell_type": "code",
   "execution_count": 20,
   "id": "6e5a6c93",
   "metadata": {},
   "outputs": [
    {
     "data": {
      "text/plain": [
       "XGBClassifier(base_score=0.5, booster='gbtree', colsample_bylevel=1,\n",
       "              colsample_bynode=1, colsample_bytree=1, enable_categorical=False,\n",
       "              eval_metric='logloss', gamma=0, gpu_id=-1, importance_type=None,\n",
       "              interaction_constraints='', learning_rate=0.300000012,\n",
       "              max_delta_step=0, max_depth=6, min_child_weight=1, missing=nan,\n",
       "              monotone_constraints='()', n_estimators=100, n_jobs=12,\n",
       "              num_parallel_tree=1, predictor='auto', random_state=0,\n",
       "              reg_alpha=0, reg_lambda=1, scale_pos_weight=1, subsample=1,\n",
       "              tree_method='exact', use_label_encoder=False,\n",
       "              validate_parameters=1, verbosity=None)"
      ]
     },
     "execution_count": 20,
     "metadata": {},
     "output_type": "execute_result"
    }
   ],
   "source": [
    "education_ohe=pd.get_dummies(df.education, prefix='Education')\n",
    "df_ohe=pd.concat([df, education_ohe], axis=1)\n",
    "df_ohe_num=df_ohe._get_numeric_data()\n",
    "\n",
    "X_ohe=df_ohe_num.loc[:, df_ohe_num.columns!='label'].values\n",
    "Y_ohe=df_ohe_num.loc[:, df_ohe_num.columns=='label'].values\n",
    "model_ohe = XGBClassifier(use_label_encoder=False,eval_metric=\"logloss\")\n",
    "model_ohe.fit(X_ohe, Y_ohe.ravel())\n",
    "\n"
   ]
  },
  {
   "cell_type": "markdown",
   "id": "62005a98",
   "metadata": {},
   "source": [
    "## An extra 1% accuracy in the validation set. Very nice. "
   ]
  },
  {
   "cell_type": "code",
   "execution_count": 21,
   "id": "326a6c49",
   "metadata": {},
   "outputs": [
    {
     "data": {
      "text/plain": [
       "0.9620494880289491"
      ]
     },
     "execution_count": 21,
     "metadata": {},
     "output_type": "execute_result"
    }
   ],
   "source": [
    "\n",
    "education_test_ohe=pd.get_dummies(df_test.education, prefix='Education')\n",
    "df_ohe_test=pd.concat([df_test, education_test_ohe], axis=1)\n",
    "df_ohe_test_num=df_ohe_test._get_numeric_data()\n",
    "\n",
    "X_ohe_val=df_ohe_num.loc[:, df_ohe_test_num.columns!='label'].values\n",
    "Y_ohe_val=df_ohe_num.loc[:, df_ohe_test_num.columns=='label'].values\n",
    "\n",
    "\n",
    "model_ohe.score(X_ohe_val, Y_ohe_val.ravel())"
   ]
  },
  {
   "cell_type": "markdown",
   "id": "586452b7",
   "metadata": {},
   "source": [
    "### We can \"business speak\" it and say that we reduced inaccuracies by 21%"
   ]
  },
  {
   "cell_type": "code",
   "execution_count": 24,
   "id": "79abaed9",
   "metadata": {},
   "outputs": [
    {
     "data": {
      "text/plain": [
       "1.2131578947368418"
      ]
     },
     "execution_count": 24,
     "metadata": {},
     "output_type": "execute_result"
    }
   ],
   "source": [
    "(1-0.9539)/(1-0.9620)"
   ]
  },
  {
   "cell_type": "code",
   "execution_count": null,
   "id": "e55f287c",
   "metadata": {},
   "outputs": [],
   "source": []
  }
 ],
 "metadata": {
  "kernelspec": {
   "display_name": "Python 3 (ipykernel)",
   "language": "python",
   "name": "python3"
  },
  "language_info": {
   "codemirror_mode": {
    "name": "ipython",
    "version": 3
   },
   "file_extension": ".py",
   "mimetype": "text/x-python",
   "name": "python",
   "nbconvert_exporter": "python",
   "pygments_lexer": "ipython3",
   "version": "3.9.10"
  }
 },
 "nbformat": 4,
 "nbformat_minor": 5
}
